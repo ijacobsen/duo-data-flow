{
 "cells": [
  {
   "cell_type": "markdown",
   "id": "39a4dd54",
   "metadata": {},
   "source": [
    "https://maelfabien.github.io/bigdata/SparkInstall/#step-2-install-java-8 \n",
    "\n",
    "- did not add the bottom lines from step 7 to .zshrc file "
   ]
  },
  {
   "cell_type": "markdown",
   "id": "ee68c165",
   "metadata": {},
   "source": [
    "- source ~/.zshrc to work in env which pyspark is installed"
   ]
  },
  {
   "cell_type": "markdown",
   "id": "c7407fcb",
   "metadata": {},
   "source": [
    "- http://localhost:4040/jobs/ to view spark"
   ]
  },
  {
   "cell_type": "code",
   "execution_count": 1,
   "id": "ba957cce",
   "metadata": {},
   "outputs": [
    {
     "data": {
      "text/plain": [
       "[4, 10, 9]"
      ]
     },
     "execution_count": 1,
     "metadata": {},
     "output_type": "execute_result"
    }
   ],
   "source": [
    "import pyspark\n",
    "from pyspark import SparkContext\n",
    "sc = SparkContext()\n",
    "n = sc.parallelize([4,10,9,7])\n",
    "n.take(3)"
   ]
  },
  {
   "cell_type": "code",
   "execution_count": 2,
   "id": "8555da30",
   "metadata": {},
   "outputs": [],
   "source": [
    "sc.stop()"
   ]
  },
  {
   "cell_type": "code",
   "execution_count": null,
   "id": "ae5ae748",
   "metadata": {},
   "outputs": [],
   "source": []
  }
 ],
 "metadata": {
  "kernelspec": {
   "display_name": "Python 3",
   "language": "python",
   "name": "python3"
  },
  "language_info": {
   "codemirror_mode": {
    "name": "ipython",
    "version": 3
   },
   "file_extension": ".py",
   "mimetype": "text/x-python",
   "name": "python",
   "nbconvert_exporter": "python",
   "pygments_lexer": "ipython3",
   "version": "3.8.5"
  }
 },
 "nbformat": 4,
 "nbformat_minor": 5
}
